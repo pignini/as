{
 "cells": [
  {
   "cell_type": "code",
   "execution_count": 1,
   "metadata": {},
   "outputs": [],
   "source": [
    "def quicksort(x):\n",
    "      if len(x) < 2:      #如果數列中的數字長度不到兩個就不用跑下面的程式碼\n",
    "          return x\n",
    "      else:\n",
    "          pivot = x[0]   #把數列的第一個數作為pivot\n",
    "          less = [i for i in x[1:] if i < pivot] \n",
    "                             #比pivot小的放less數列裡， x[1:] 是把x從1(第二個位置的數)開始往後找，因為0是pivot\n",
    "          more = [i for i in x[1:] if i >= pivot]     #大於等於的放more數列裡\n",
    "          return quicksort(less) + [pivot] + quicksort(more) \n",
    "                            #把新的數列重整，把quicksort(less) 和quicksort(more)丟回if len(x) < 2:，若有兩個以上的數字，再重複上述步驟(選pivot、調整數列)\n",
    "                           #直到所有list中都只剩下一個數，分不出「新的數列」為止，就會停止分類"
   ]
  },
  {
   "cell_type": "code",
   "execution_count": 4,
   "metadata": {},
   "outputs": [],
   "source": [
    "list=[4,8,3,0,11,8,16,1,6,9]"
   ]
  },
  {
   "cell_type": "code",
   "execution_count": 5,
   "metadata": {},
   "outputs": [
    {
     "data": {
      "text/plain": [
       "[0, 1, 3, 4, 6, 8, 8, 9, 11, 16]"
      ]
     },
     "execution_count": 5,
     "metadata": {},
     "output_type": "execute_result"
    }
   ],
   "source": [
    "quicksort(list)"
   ]
  },
  {
   "cell_type": "code",
   "execution_count": null,
   "metadata": {},
   "outputs": [],
   "source": []
  }
 ],
 "metadata": {
  "kernelspec": {
   "display_name": "Python 3",
   "language": "python",
   "name": "python3"
  },
  "language_info": {
   "codemirror_mode": {
    "name": "ipython",
    "version": 3
   },
   "file_extension": ".py",
   "mimetype": "text/x-python",
   "name": "python",
   "nbconvert_exporter": "python",
   "pygments_lexer": "ipython3",
   "version": "3.7.1"
  }
 },
 "nbformat": 4,
 "nbformat_minor": 2
}
